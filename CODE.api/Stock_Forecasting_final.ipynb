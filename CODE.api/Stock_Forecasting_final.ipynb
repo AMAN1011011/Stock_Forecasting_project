{
  "nbformat": 4,
  "nbformat_minor": 0,
  "metadata": {
    "colab": {
      "provenance": []
    },
    "kernelspec": {
      "name": "python3",
      "display_name": "Python 3"
    },
    "language_info": {
      "name": "python"
    }
  },
  "cells": [
    {
      "cell_type": "code",
      "execution_count": 1,
      "metadata": {
        "id": "vhicLhjaUNI6"
      },
      "outputs": [],
      "source": [
        "import numpy as np \n",
        "import pandas as pd\n",
        "from matplotlib import pyplot as plt\n",
        "import time\n",
        "import pandas_datareader as pdr\n",
        "import keras\n",
        "from keras.layers import LSTM\n",
        "from keras.models import Sequential\n",
        "from keras.layers.core import Dense, Activation, Dropout\n",
        "from sklearn.preprocessing import MinMaxScaler\n",
        "import seaborn as sns\n",
        "from tensorflow import keras \n",
        "import warnings\n",
        "warnings.filterwarnings(\"ignore\")"
      ]
    },
    {
      "cell_type": "code",
      "source": [
        "df = pd.read_csv(\"https://raw.githubusercontent.com/AMAN1011011/Stock_Forecasting_project/main/DATA.api/NFLX.csv\")\n",
        "df.head()"
      ],
      "metadata": {
        "colab": {
          "base_uri": "https://localhost:8080/",
          "height": 206
        },
        "id": "jwaSmayiUole",
        "outputId": "dde5f6b0-129f-4c81-88e8-0e22c13810e6"
      },
      "execution_count": 2,
      "outputs": [
        {
          "output_type": "execute_result",
          "data": {
            "text/plain": [
              "         Date        Open        High         Low       Close   Adj Close  \\\n",
              "0  2022-01-12  544.270020  544.270020  532.020020  537.219971  537.219971   \n",
              "1  2022-01-13  537.059998  540.789978  518.260010  519.200012  519.200012   \n",
              "2  2022-01-14  517.599976  538.369995  511.880005  525.690002  525.690002   \n",
              "3  2022-01-18  520.080017  521.750000  508.679993  510.799988  510.799988   \n",
              "4  2022-01-19  515.000000  523.210022  510.510010  515.859985  515.859985   \n",
              "\n",
              "    Volume  \n",
              "0  3787400  \n",
              "1  4475100  \n",
              "2  7861100  \n",
              "3  4839100  \n",
              "4  4353500  "
            ],
            "text/html": [
              "\n",
              "  <div id=\"df-f8b27f10-a950-42ca-a5d6-fc9e460aa9b4\">\n",
              "    <div class=\"colab-df-container\">\n",
              "      <div>\n",
              "<style scoped>\n",
              "    .dataframe tbody tr th:only-of-type {\n",
              "        vertical-align: middle;\n",
              "    }\n",
              "\n",
              "    .dataframe tbody tr th {\n",
              "        vertical-align: top;\n",
              "    }\n",
              "\n",
              "    .dataframe thead th {\n",
              "        text-align: right;\n",
              "    }\n",
              "</style>\n",
              "<table border=\"1\" class=\"dataframe\">\n",
              "  <thead>\n",
              "    <tr style=\"text-align: right;\">\n",
              "      <th></th>\n",
              "      <th>Date</th>\n",
              "      <th>Open</th>\n",
              "      <th>High</th>\n",
              "      <th>Low</th>\n",
              "      <th>Close</th>\n",
              "      <th>Adj Close</th>\n",
              "      <th>Volume</th>\n",
              "    </tr>\n",
              "  </thead>\n",
              "  <tbody>\n",
              "    <tr>\n",
              "      <th>0</th>\n",
              "      <td>2022-01-12</td>\n",
              "      <td>544.270020</td>\n",
              "      <td>544.270020</td>\n",
              "      <td>532.020020</td>\n",
              "      <td>537.219971</td>\n",
              "      <td>537.219971</td>\n",
              "      <td>3787400</td>\n",
              "    </tr>\n",
              "    <tr>\n",
              "      <th>1</th>\n",
              "      <td>2022-01-13</td>\n",
              "      <td>537.059998</td>\n",
              "      <td>540.789978</td>\n",
              "      <td>518.260010</td>\n",
              "      <td>519.200012</td>\n",
              "      <td>519.200012</td>\n",
              "      <td>4475100</td>\n",
              "    </tr>\n",
              "    <tr>\n",
              "      <th>2</th>\n",
              "      <td>2022-01-14</td>\n",
              "      <td>517.599976</td>\n",
              "      <td>538.369995</td>\n",
              "      <td>511.880005</td>\n",
              "      <td>525.690002</td>\n",
              "      <td>525.690002</td>\n",
              "      <td>7861100</td>\n",
              "    </tr>\n",
              "    <tr>\n",
              "      <th>3</th>\n",
              "      <td>2022-01-18</td>\n",
              "      <td>520.080017</td>\n",
              "      <td>521.750000</td>\n",
              "      <td>508.679993</td>\n",
              "      <td>510.799988</td>\n",
              "      <td>510.799988</td>\n",
              "      <td>4839100</td>\n",
              "    </tr>\n",
              "    <tr>\n",
              "      <th>4</th>\n",
              "      <td>2022-01-19</td>\n",
              "      <td>515.000000</td>\n",
              "      <td>523.210022</td>\n",
              "      <td>510.510010</td>\n",
              "      <td>515.859985</td>\n",
              "      <td>515.859985</td>\n",
              "      <td>4353500</td>\n",
              "    </tr>\n",
              "  </tbody>\n",
              "</table>\n",
              "</div>\n",
              "      <button class=\"colab-df-convert\" onclick=\"convertToInteractive('df-f8b27f10-a950-42ca-a5d6-fc9e460aa9b4')\"\n",
              "              title=\"Convert this dataframe to an interactive table.\"\n",
              "              style=\"display:none;\">\n",
              "        \n",
              "  <svg xmlns=\"http://www.w3.org/2000/svg\" height=\"24px\"viewBox=\"0 0 24 24\"\n",
              "       width=\"24px\">\n",
              "    <path d=\"M0 0h24v24H0V0z\" fill=\"none\"/>\n",
              "    <path d=\"M18.56 5.44l.94 2.06.94-2.06 2.06-.94-2.06-.94-.94-2.06-.94 2.06-2.06.94zm-11 1L8.5 8.5l.94-2.06 2.06-.94-2.06-.94L8.5 2.5l-.94 2.06-2.06.94zm10 10l.94 2.06.94-2.06 2.06-.94-2.06-.94-.94-2.06-.94 2.06-2.06.94z\"/><path d=\"M17.41 7.96l-1.37-1.37c-.4-.4-.92-.59-1.43-.59-.52 0-1.04.2-1.43.59L10.3 9.45l-7.72 7.72c-.78.78-.78 2.05 0 2.83L4 21.41c.39.39.9.59 1.41.59.51 0 1.02-.2 1.41-.59l7.78-7.78 2.81-2.81c.8-.78.8-2.07 0-2.86zM5.41 20L4 18.59l7.72-7.72 1.47 1.35L5.41 20z\"/>\n",
              "  </svg>\n",
              "      </button>\n",
              "      \n",
              "  <style>\n",
              "    .colab-df-container {\n",
              "      display:flex;\n",
              "      flex-wrap:wrap;\n",
              "      gap: 12px;\n",
              "    }\n",
              "\n",
              "    .colab-df-convert {\n",
              "      background-color: #E8F0FE;\n",
              "      border: none;\n",
              "      border-radius: 50%;\n",
              "      cursor: pointer;\n",
              "      display: none;\n",
              "      fill: #1967D2;\n",
              "      height: 32px;\n",
              "      padding: 0 0 0 0;\n",
              "      width: 32px;\n",
              "    }\n",
              "\n",
              "    .colab-df-convert:hover {\n",
              "      background-color: #E2EBFA;\n",
              "      box-shadow: 0px 1px 2px rgba(60, 64, 67, 0.3), 0px 1px 3px 1px rgba(60, 64, 67, 0.15);\n",
              "      fill: #174EA6;\n",
              "    }\n",
              "\n",
              "    [theme=dark] .colab-df-convert {\n",
              "      background-color: #3B4455;\n",
              "      fill: #D2E3FC;\n",
              "    }\n",
              "\n",
              "    [theme=dark] .colab-df-convert:hover {\n",
              "      background-color: #434B5C;\n",
              "      box-shadow: 0px 1px 3px 1px rgba(0, 0, 0, 0.15);\n",
              "      filter: drop-shadow(0px 1px 2px rgba(0, 0, 0, 0.3));\n",
              "      fill: #FFFFFF;\n",
              "    }\n",
              "  </style>\n",
              "\n",
              "      <script>\n",
              "        const buttonEl =\n",
              "          document.querySelector('#df-f8b27f10-a950-42ca-a5d6-fc9e460aa9b4 button.colab-df-convert');\n",
              "        buttonEl.style.display =\n",
              "          google.colab.kernel.accessAllowed ? 'block' : 'none';\n",
              "\n",
              "        async function convertToInteractive(key) {\n",
              "          const element = document.querySelector('#df-f8b27f10-a950-42ca-a5d6-fc9e460aa9b4');\n",
              "          const dataTable =\n",
              "            await google.colab.kernel.invokeFunction('convertToInteractive',\n",
              "                                                     [key], {});\n",
              "          if (!dataTable) return;\n",
              "\n",
              "          const docLinkHtml = 'Like what you see? Visit the ' +\n",
              "            '<a target=\"_blank\" href=https://colab.research.google.com/notebooks/data_table.ipynb>data table notebook</a>'\n",
              "            + ' to learn more about interactive tables.';\n",
              "          element.innerHTML = '';\n",
              "          dataTable['output_type'] = 'display_data';\n",
              "          await google.colab.output.renderOutput(dataTable, element);\n",
              "          const docLink = document.createElement('div');\n",
              "          docLink.innerHTML = docLinkHtml;\n",
              "          element.appendChild(docLink);\n",
              "        }\n",
              "      </script>\n",
              "    </div>\n",
              "  </div>\n",
              "  "
            ]
          },
          "metadata": {},
          "execution_count": 2
        }
      ]
    },
    {
      "cell_type": "code",
      "source": [
        "df.shape"
      ],
      "metadata": {
        "colab": {
          "base_uri": "https://localhost:8080/"
        },
        "id": "fumHN7YH0BDB",
        "outputId": "97083ede-1d70-421f-af1b-9afcc397b949"
      },
      "execution_count": 3,
      "outputs": [
        {
          "output_type": "execute_result",
          "data": {
            "text/plain": [
              "(251, 7)"
            ]
          },
          "metadata": {},
          "execution_count": 3
        }
      ]
    },
    {
      "cell_type": "code",
      "source": [
        "df.info()"
      ],
      "metadata": {
        "colab": {
          "base_uri": "https://localhost:8080/"
        },
        "id": "POa2fGzFUpBO",
        "outputId": "1f9c2bb8-7a4d-484b-c3f1-f8aaa62e72bf"
      },
      "execution_count": 4,
      "outputs": [
        {
          "output_type": "stream",
          "name": "stdout",
          "text": [
            "<class 'pandas.core.frame.DataFrame'>\n",
            "RangeIndex: 251 entries, 0 to 250\n",
            "Data columns (total 7 columns):\n",
            " #   Column     Non-Null Count  Dtype  \n",
            "---  ------     --------------  -----  \n",
            " 0   Date       251 non-null    object \n",
            " 1   Open       251 non-null    float64\n",
            " 2   High       251 non-null    float64\n",
            " 3   Low        251 non-null    float64\n",
            " 4   Close      251 non-null    float64\n",
            " 5   Adj Close  251 non-null    float64\n",
            " 6   Volume     251 non-null    int64  \n",
            "dtypes: float64(5), int64(1), object(1)\n",
            "memory usage: 13.9+ KB\n"
          ]
        }
      ]
    },
    {
      "cell_type": "code",
      "source": [
        "df[\"Date\"] = pd.to_datetime(df[\"Date\"])"
      ],
      "metadata": {
        "id": "CriPiepVUq10"
      },
      "execution_count": 5,
      "outputs": []
    },
    {
      "cell_type": "code",
      "source": [
        "df.info()\n"
      ],
      "metadata": {
        "colab": {
          "base_uri": "https://localhost:8080/"
        },
        "id": "9_hd9FJjUvUN",
        "outputId": "78037289-e443-4762-ee50-7aff7d94399c"
      },
      "execution_count": 6,
      "outputs": [
        {
          "output_type": "stream",
          "name": "stdout",
          "text": [
            "<class 'pandas.core.frame.DataFrame'>\n",
            "RangeIndex: 251 entries, 0 to 250\n",
            "Data columns (total 7 columns):\n",
            " #   Column     Non-Null Count  Dtype         \n",
            "---  ------     --------------  -----         \n",
            " 0   Date       251 non-null    datetime64[ns]\n",
            " 1   Open       251 non-null    float64       \n",
            " 2   High       251 non-null    float64       \n",
            " 3   Low        251 non-null    float64       \n",
            " 4   Close      251 non-null    float64       \n",
            " 5   Adj Close  251 non-null    float64       \n",
            " 6   Volume     251 non-null    int64         \n",
            "dtypes: datetime64[ns](1), float64(5), int64(1)\n",
            "memory usage: 13.9 KB\n"
          ]
        }
      ]
    },
    {
      "cell_type": "code",
      "source": [
        "df[\"Date\"].min(), df[\"Date\"].max()"
      ],
      "metadata": {
        "colab": {
          "base_uri": "https://localhost:8080/"
        },
        "id": "lwizG0HkUxl0",
        "outputId": "ff699e23-0740-4a37-d22d-3de358656234"
      },
      "execution_count": 7,
      "outputs": [
        {
          "output_type": "execute_result",
          "data": {
            "text/plain": [
              "(Timestamp('2022-01-12 00:00:00'), Timestamp('2023-01-11 00:00:00'))"
            ]
          },
          "metadata": {},
          "execution_count": 7
        }
      ]
    },
    {
      "cell_type": "code",
      "source": [
        "df.set_index(\"Date\",inplace=True)\n",
        "df.head()"
      ],
      "metadata": {
        "colab": {
          "base_uri": "https://localhost:8080/",
          "height": 237
        },
        "id": "-GpoyYo5Uzt9",
        "outputId": "2e2eaef2-151d-4196-fd35-f84d76360fed"
      },
      "execution_count": 8,
      "outputs": [
        {
          "output_type": "execute_result",
          "data": {
            "text/plain": [
              "                  Open        High         Low       Close   Adj Close  \\\n",
              "Date                                                                     \n",
              "2022-01-12  544.270020  544.270020  532.020020  537.219971  537.219971   \n",
              "2022-01-13  537.059998  540.789978  518.260010  519.200012  519.200012   \n",
              "2022-01-14  517.599976  538.369995  511.880005  525.690002  525.690002   \n",
              "2022-01-18  520.080017  521.750000  508.679993  510.799988  510.799988   \n",
              "2022-01-19  515.000000  523.210022  510.510010  515.859985  515.859985   \n",
              "\n",
              "             Volume  \n",
              "Date                 \n",
              "2022-01-12  3787400  \n",
              "2022-01-13  4475100  \n",
              "2022-01-14  7861100  \n",
              "2022-01-18  4839100  \n",
              "2022-01-19  4353500  "
            ],
            "text/html": [
              "\n",
              "  <div id=\"df-8e759bc9-7f72-4b0e-aff4-f48b3d4d749d\">\n",
              "    <div class=\"colab-df-container\">\n",
              "      <div>\n",
              "<style scoped>\n",
              "    .dataframe tbody tr th:only-of-type {\n",
              "        vertical-align: middle;\n",
              "    }\n",
              "\n",
              "    .dataframe tbody tr th {\n",
              "        vertical-align: top;\n",
              "    }\n",
              "\n",
              "    .dataframe thead th {\n",
              "        text-align: right;\n",
              "    }\n",
              "</style>\n",
              "<table border=\"1\" class=\"dataframe\">\n",
              "  <thead>\n",
              "    <tr style=\"text-align: right;\">\n",
              "      <th></th>\n",
              "      <th>Open</th>\n",
              "      <th>High</th>\n",
              "      <th>Low</th>\n",
              "      <th>Close</th>\n",
              "      <th>Adj Close</th>\n",
              "      <th>Volume</th>\n",
              "    </tr>\n",
              "    <tr>\n",
              "      <th>Date</th>\n",
              "      <th></th>\n",
              "      <th></th>\n",
              "      <th></th>\n",
              "      <th></th>\n",
              "      <th></th>\n",
              "      <th></th>\n",
              "    </tr>\n",
              "  </thead>\n",
              "  <tbody>\n",
              "    <tr>\n",
              "      <th>2022-01-12</th>\n",
              "      <td>544.270020</td>\n",
              "      <td>544.270020</td>\n",
              "      <td>532.020020</td>\n",
              "      <td>537.219971</td>\n",
              "      <td>537.219971</td>\n",
              "      <td>3787400</td>\n",
              "    </tr>\n",
              "    <tr>\n",
              "      <th>2022-01-13</th>\n",
              "      <td>537.059998</td>\n",
              "      <td>540.789978</td>\n",
              "      <td>518.260010</td>\n",
              "      <td>519.200012</td>\n",
              "      <td>519.200012</td>\n",
              "      <td>4475100</td>\n",
              "    </tr>\n",
              "    <tr>\n",
              "      <th>2022-01-14</th>\n",
              "      <td>517.599976</td>\n",
              "      <td>538.369995</td>\n",
              "      <td>511.880005</td>\n",
              "      <td>525.690002</td>\n",
              "      <td>525.690002</td>\n",
              "      <td>7861100</td>\n",
              "    </tr>\n",
              "    <tr>\n",
              "      <th>2022-01-18</th>\n",
              "      <td>520.080017</td>\n",
              "      <td>521.750000</td>\n",
              "      <td>508.679993</td>\n",
              "      <td>510.799988</td>\n",
              "      <td>510.799988</td>\n",
              "      <td>4839100</td>\n",
              "    </tr>\n",
              "    <tr>\n",
              "      <th>2022-01-19</th>\n",
              "      <td>515.000000</td>\n",
              "      <td>523.210022</td>\n",
              "      <td>510.510010</td>\n",
              "      <td>515.859985</td>\n",
              "      <td>515.859985</td>\n",
              "      <td>4353500</td>\n",
              "    </tr>\n",
              "  </tbody>\n",
              "</table>\n",
              "</div>\n",
              "      <button class=\"colab-df-convert\" onclick=\"convertToInteractive('df-8e759bc9-7f72-4b0e-aff4-f48b3d4d749d')\"\n",
              "              title=\"Convert this dataframe to an interactive table.\"\n",
              "              style=\"display:none;\">\n",
              "        \n",
              "  <svg xmlns=\"http://www.w3.org/2000/svg\" height=\"24px\"viewBox=\"0 0 24 24\"\n",
              "       width=\"24px\">\n",
              "    <path d=\"M0 0h24v24H0V0z\" fill=\"none\"/>\n",
              "    <path d=\"M18.56 5.44l.94 2.06.94-2.06 2.06-.94-2.06-.94-.94-2.06-.94 2.06-2.06.94zm-11 1L8.5 8.5l.94-2.06 2.06-.94-2.06-.94L8.5 2.5l-.94 2.06-2.06.94zm10 10l.94 2.06.94-2.06 2.06-.94-2.06-.94-.94-2.06-.94 2.06-2.06.94z\"/><path d=\"M17.41 7.96l-1.37-1.37c-.4-.4-.92-.59-1.43-.59-.52 0-1.04.2-1.43.59L10.3 9.45l-7.72 7.72c-.78.78-.78 2.05 0 2.83L4 21.41c.39.39.9.59 1.41.59.51 0 1.02-.2 1.41-.59l7.78-7.78 2.81-2.81c.8-.78.8-2.07 0-2.86zM5.41 20L4 18.59l7.72-7.72 1.47 1.35L5.41 20z\"/>\n",
              "  </svg>\n",
              "      </button>\n",
              "      \n",
              "  <style>\n",
              "    .colab-df-container {\n",
              "      display:flex;\n",
              "      flex-wrap:wrap;\n",
              "      gap: 12px;\n",
              "    }\n",
              "\n",
              "    .colab-df-convert {\n",
              "      background-color: #E8F0FE;\n",
              "      border: none;\n",
              "      border-radius: 50%;\n",
              "      cursor: pointer;\n",
              "      display: none;\n",
              "      fill: #1967D2;\n",
              "      height: 32px;\n",
              "      padding: 0 0 0 0;\n",
              "      width: 32px;\n",
              "    }\n",
              "\n",
              "    .colab-df-convert:hover {\n",
              "      background-color: #E2EBFA;\n",
              "      box-shadow: 0px 1px 2px rgba(60, 64, 67, 0.3), 0px 1px 3px 1px rgba(60, 64, 67, 0.15);\n",
              "      fill: #174EA6;\n",
              "    }\n",
              "\n",
              "    [theme=dark] .colab-df-convert {\n",
              "      background-color: #3B4455;\n",
              "      fill: #D2E3FC;\n",
              "    }\n",
              "\n",
              "    [theme=dark] .colab-df-convert:hover {\n",
              "      background-color: #434B5C;\n",
              "      box-shadow: 0px 1px 3px 1px rgba(0, 0, 0, 0.15);\n",
              "      filter: drop-shadow(0px 1px 2px rgba(0, 0, 0, 0.3));\n",
              "      fill: #FFFFFF;\n",
              "    }\n",
              "  </style>\n",
              "\n",
              "      <script>\n",
              "        const buttonEl =\n",
              "          document.querySelector('#df-8e759bc9-7f72-4b0e-aff4-f48b3d4d749d button.colab-df-convert');\n",
              "        buttonEl.style.display =\n",
              "          google.colab.kernel.accessAllowed ? 'block' : 'none';\n",
              "\n",
              "        async function convertToInteractive(key) {\n",
              "          const element = document.querySelector('#df-8e759bc9-7f72-4b0e-aff4-f48b3d4d749d');\n",
              "          const dataTable =\n",
              "            await google.colab.kernel.invokeFunction('convertToInteractive',\n",
              "                                                     [key], {});\n",
              "          if (!dataTable) return;\n",
              "\n",
              "          const docLinkHtml = 'Like what you see? Visit the ' +\n",
              "            '<a target=\"_blank\" href=https://colab.research.google.com/notebooks/data_table.ipynb>data table notebook</a>'\n",
              "            + ' to learn more about interactive tables.';\n",
              "          element.innerHTML = '';\n",
              "          dataTable['output_type'] = 'display_data';\n",
              "          await google.colab.output.renderOutput(dataTable, element);\n",
              "          const docLink = document.createElement('div');\n",
              "          docLink.innerHTML = docLinkHtml;\n",
              "          element.appendChild(docLink);\n",
              "        }\n",
              "      </script>\n",
              "    </div>\n",
              "  </div>\n",
              "  "
            ]
          },
          "metadata": {},
          "execution_count": 8
        }
      ]
    },
    {
      "cell_type": "code",
      "source": [
        "df[[\"High\", \"Low\", \"Open\", \"Close\"]].plot(figsize=(10,7))\n",
        "plt.legend(loc=\"best\")\n",
        "plt.xlabel(\"Time ---------------->\")\n",
        "plt.ylabel(\"Price ---------------->\")\n",
        "plt.title(\"Plotting Price against the Entire Timeframe For all the columns\")"
      ],
      "metadata": {
        "colab": {
          "base_uri": "https://localhost:8080/",
          "height": 457
        },
        "id": "gfo5IJ7VU1nc",
        "outputId": "f298ee1e-20eb-4acf-d083-5549426d481f"
      },
      "execution_count": 9,
      "outputs": [
        {
          "output_type": "execute_result",
          "data": {
            "text/plain": [
              "Text(0.5, 1.0, 'Plotting Price against the Entire Timeframe For all the columns')"
            ]
          },
          "metadata": {},
          "execution_count": 9
        },
        {
          "output_type": "display_data",
          "data": {
            "text/plain": [
              "<Figure size 720x504 with 1 Axes>"
            ],
            "image/png": "[encoded data removed]"
          },
          "metadata": {
            "needs_background": "light"
          }
        }
      ]
    },
    {
      "cell_type": "code",
      "source": [
        "plt.figure(figsize=(12,7))\n",
        "df[\"High\"].plot()\n",
        "plt.legend(loc=\"best\")\n",
        "plt.xlabel(\"Time ---------------->\")\n",
        "plt.ylabel(\"Price ---------------->\")\n",
        "plt.title(\"Plotting Price against the Entire Timeframe For HIGH column\")"
      ],
      "metadata": {
        "colab": {
          "base_uri": "https://localhost:8080/",
          "height": 457
        },
        "id": "ROYstRgbU6nd",
        "outputId": "2ac1b707-2f1f-40da-dbbd-c19486da8898"
      },
      "execution_count": 10,
      "outputs": [
        {
          "output_type": "execute_result",
          "data": {
            "text/plain": [
              "Text(0.5, 1.0, 'Plotting Price against the Entire Timeframe For HIGH column')"
            ]
          },
          "metadata": {},
          "execution_count": 10
        },
        {
          "output_type": "display_data",
          "data": {
            "text/plain": [
              "<Figure size 864x504 with 1 Axes>"
            ],
            "image/png": "[encoded data removed]"
          },
          "metadata": {
            "needs_background": "light"
          }
        }
      ]
    },
    {
      "cell_type": "code",
      "source": [
        "new_df = pd.DataFrame(df[\"High\"].copy(), columns=[\"High\"])\n",
        "new_df.head()"
      ],
      "metadata": {
        "colab": {
          "base_uri": "https://localhost:8080/",
          "height": 237
        },
        "id": "Sr9Wv5B_U-Qt",
        "outputId": "8e81f4a9-1bb6-48f2-ec22-3ed42875e7c6"
      },
      "execution_count": 11,
      "outputs": [
        {
          "output_type": "execute_result",
          "data": {
            "text/plain": [
              "                  High\n",
              "Date                  \n",
              "2022-01-12  544.270020\n",
              "2022-01-13  540.789978\n",
              "2022-01-14  538.369995\n",
              "2022-01-18  521.750000\n",
              "2022-01-19  523.210022"
            ],
            "text/html": [
              "\n",
              "  <div id=\"df-5f2b141d-2bec-4ceb-b924-596a15d5a796\">\n",
              "    <div class=\"colab-df-container\">\n",
              "      <div>\n",
              "<style scoped>\n",
              "    .dataframe tbody tr th:only-of-type {\n",
              "        vertical-align: middle;\n",
              "    }\n",
              "\n",
              "    .dataframe tbody tr th {\n",
              "        vertical-align: top;\n",
              "    }\n",
              "\n",
              "    .dataframe thead th {\n",
              "        text-align: right;\n",
              "    }\n",
              "</style>\n",
              "<table border=\"1\" class=\"dataframe\">\n",
              "  <thead>\n",
              "    <tr style=\"text-align: right;\">\n",
              "      <th></th>\n",
              "      <th>High</th>\n",
              "    </tr>\n",
              "    <tr>\n",
              "      <th>Date</th>\n",
              "      <th></th>\n",
              "    </tr>\n",
              "  </thead>\n",
              "  <tbody>\n",
              "    <tr>\n",
              "      <th>2022-01-12</th>\n",
              "      <td>544.270020</td>\n",
              "    </tr>\n",
              "    <tr>\n",
              "      <th>2022-01-13</th>\n",
              "      <td>540.789978</td>\n",
              "    </tr>\n",
              "    <tr>\n",
              "      <th>2022-01-14</th>\n",
              "      <td>538.369995</td>\n",
              "    </tr>\n",
              "    <tr>\n",
              "      <th>2022-01-18</th>\n",
              "      <td>521.750000</td>\n",
              "    </tr>\n",
              "    <tr>\n",
              "      <th>2022-01-19</th>\n",
              "      <td>523.210022</td>\n",
              "    </tr>\n",
              "  </tbody>\n",
              "</table>\n",
              "</div>\n",
              "      <button class=\"colab-df-convert\" onclick=\"convertToInteractive('df-5f2b141d-2bec-4ceb-b924-596a15d5a796')\"\n",
              "              title=\"Convert this dataframe to an interactive table.\"\n",
              "              style=\"display:none;\">\n",
              "        \n",
              "  <svg xmlns=\"http://www.w3.org/2000/svg\" height=\"24px\"viewBox=\"0 0 24 24\"\n",
              "       width=\"24px\">\n",
              "    <path d=\"M0 0h24v24H0V0z\" fill=\"none\"/>\n",
              "    <path d=\"M18.56 5.44l.94 2.06.94-2.06 2.06-.94-2.06-.94-.94-2.06-.94 2.06-2.06.94zm-11 1L8.5 8.5l.94-2.06 2.06-.94-2.06-.94L8.5 2.5l-.94 2.06-2.06.94zm10 10l.94 2.06.94-2.06 2.06-.94-2.06-.94-.94-2.06-.94 2.06-2.06.94z\"/><path d=\"M17.41 7.96l-1.37-1.37c-.4-.4-.92-.59-1.43-.59-.52 0-1.04.2-1.43.59L10.3 9.45l-7.72 7.72c-.78.78-.78 2.05 0 2.83L4 21.41c.39.39.9.59 1.41.59.51 0 1.02-.2 1.41-.59l7.78-7.78 2.81-2.81c.8-.78.8-2.07 0-2.86zM5.41 20L4 18.59l7.72-7.72 1.47 1.35L5.41 20z\"/>\n",
              "  </svg>\n",
              "      </button>\n",
              "      \n",
              "  <style>\n",
              "    .colab-df-container {\n",
              "      display:flex;\n",
              "      flex-wrap:wrap;\n",
              "      gap: 12px;\n",
              "    }\n",
              "\n",
              "    .colab-df-convert {\n",
              "      background-color: #E8F0FE;\n",
              "      border: none;\n",
              "      border-radius: 50%;\n",
              "      cursor: pointer;\n",
              "      display: none;\n",
              "      fill: #1967D2;\n",
              "      height: 32px;\n",
              "      padding: 0 0 0 0;\n",
              "      width: 32px;\n",
              "    }\n",
              "\n",
              "    .colab-df-convert:hover {\n",
              "      background-color: #E2EBFA;\n",
              "      box-shadow: 0px 1px 2px rgba(60, 64, 67, 0.3), 0px 1px 3px 1px rgba(60, 64, 67, 0.15);\n",
              "      fill: #174EA6;\n",
              "    }\n",
              "\n",
              "    [theme=dark] .colab-df-convert {\n",
              "      background-color: #3B4455;\n",
              "      fill: #D2E3FC;\n",
              "    }\n",
              "\n",
              "    [theme=dark] .colab-df-convert:hover {\n",
              "      background-color: #434B5C;\n",
              "      box-shadow: 0px 1px 3px 1px rgba(0, 0, 0, 0.15);\n",
              "      filter: drop-shadow(0px 1px 2px rgba(0, 0, 0, 0.3));\n",
              "      fill: #FFFFFF;\n",
              "    }\n",
              "  </style>\n",
              "\n",
              "      <script>\n",
              "        const buttonEl =\n",
              "          document.querySelector('#df-5f2b141d-2bec-4ceb-b924-596a15d5a796 button.colab-df-convert');\n",
              "        buttonEl.style.display =\n",
              "          google.colab.kernel.accessAllowed ? 'block' : 'none';\n",
              "\n",
              "        async function convertToInteractive(key) {\n",
              "          const element = document.querySelector('#df-5f2b141d-2bec-4ceb-b924-596a15d5a796');\n",
              "          const dataTable =\n",
              "            await google.colab.kernel.invokeFunction('convertToInteractive',\n",
              "                                                     [key], {});\n",
              "          if (!dataTable) return;\n",
              "\n",
              "          const docLinkHtml = 'Like what you see? Visit the ' +\n",
              "            '<a target=\"_blank\" href=https://colab.research.google.com/notebooks/data_table.ipynb>data table notebook</a>'\n",
              "            + ' to learn more about interactive tables.';\n",
              "          element.innerHTML = '';\n",
              "          dataTable['output_type'] = 'display_data';\n",
              "          await google.colab.output.renderOutput(dataTable, element);\n",
              "          const docLink = document.createElement('div');\n",
              "          docLink.innerHTML = docLinkHtml;\n",
              "          element.appendChild(docLink);\n",
              "        }\n",
              "      </script>\n",
              "    </div>\n",
              "  </div>\n",
              "  "
            ]
          },
          "metadata": {},
          "execution_count": 11
        }
      ]
    },
    {
      "cell_type": "code",
      "source": [
        "train_size = int(len(new_df)*0.8)\n",
        "\n",
        "train = new_df.iloc[0:train_size]\n",
        "test = new_df.iloc[train_size:len(new_df)]"
      ],
      "metadata": {
        "id": "D_Dz7PzoVAWF"
      },
      "execution_count": 12,
      "outputs": []
    },
    {
      "cell_type": "code",
      "source": [
        "len(train), len(test)"
      ],
      "metadata": {
        "colab": {
          "base_uri": "https://localhost:8080/"
        },
        "id": "l8XcfjbAVCvV",
        "outputId": "a5dc8cda-b834-432f-ec74-0ca76a27d04e"
      },
      "execution_count": 13,
      "outputs": [
        {
          "output_type": "execute_result",
          "data": {
            "text/plain": [
              "(200, 51)"
            ]
          },
          "metadata": {},
          "execution_count": 13
        }
      ]
    },
    {
      "cell_type": "code",
      "source": [
        "def create_dataset(X, y, lag=1):\n",
        "    xs,ys = [], []\n",
        "    \n",
        "    for i in range(len(X) - lag):\n",
        "        tmp = X.iloc[i: i+lag].values\n",
        "        xs.append(tmp)\n",
        "        ys.append(y.iloc[i+lag])\n",
        "    \n",
        "    return np.array(xs), np.array(ys)"
      ],
      "metadata": {
        "id": "1vNFGhoPVEgF"
      },
      "execution_count": 14,
      "outputs": []
    },
    {
      "cell_type": "code",
      "source": [
        "xtrain, ytrain = create_dataset(train, train[\"High\"],10)\n",
        "xtest, ytest = create_dataset(test, test[\"High\"],10)"
      ],
      "metadata": {
        "id": "6QFTsDxPVGel"
      },
      "execution_count": 15,
      "outputs": []
    },
    {
      "cell_type": "code",
      "source": [
        "xtrain[0]"
      ],
      "metadata": {
        "colab": {
          "base_uri": "https://localhost:8080/"
        },
        "id": "GPvsl0R6VLGN",
        "outputId": "70b35ca0-6746-4352-f65d-b7fbec005b25"
      },
      "execution_count": 16,
      "outputs": [
        {
          "output_type": "execute_result",
          "data": {
            "text/plain": [
              "array([[544.27002 ],\n",
              "       [540.789978],\n",
              "       [538.369995],\n",
              "       [521.75    ],\n",
              "       [523.210022],\n",
              "       [526.640015],\n",
              "       [409.149994],\n",
              "       [387.26001 ],\n",
              "       [387.709991],\n",
              "       [382.660004]])"
            ]
          },
          "metadata": {},
          "execution_count": 16
        }
      ]
    },
    {
      "cell_type": "code",
      "source": [
        "ytrain[0]"
      ],
      "metadata": {
        "colab": {
          "base_uri": "https://localhost:8080/"
        },
        "id": "nrAEGlTrVM7l",
        "outputId": "702f2888-65ae-4dc9-a3b8-9d1606d2b17a"
      },
      "execution_count": 17,
      "outputs": [
        {
          "output_type": "execute_result",
          "data": {
            "text/plain": [
              "394.799988"
            ]
          },
          "metadata": {},
          "execution_count": 17
        }
      ]
    },
    {
      "cell_type": "code",
      "source": [
        "xtrain.shape"
      ],
      "metadata": {
        "colab": {
          "base_uri": "https://localhost:8080/"
        },
        "id": "hCZWH_1TVPHM",
        "outputId": "ec28fc46-6510-4177-bbb3-3b83feb2f646"
      },
      "execution_count": 18,
      "outputs": [
        {
          "output_type": "execute_result",
          "data": {
            "text/plain": [
              "(190, 10, 1)"
            ]
          },
          "metadata": {},
          "execution_count": 18
        }
      ]
    },
    {
      "cell_type": "code",
      "source": [
        "model = Sequential()\n",
        "model.add(LSTM(50,activation='relu', input_shape=(xtrain.shape[1], xtrain.shape[2])))\n",
        "model.add(Dense(25))\n",
        "model.add(Dense(1))\n",
        "model.compile(loss=\"mean_squared_error\", optimizer=\"adam\")"
      ],
      "metadata": {
        "id": "c6MV2ZNGZTFU"
      },
      "execution_count": 19,
      "outputs": []
    },
    {
      "cell_type": "code",
      "source": [
        "model.fit(xtrain, ytrain,\n",
        "         epochs=150,\n",
        "         batch_size=150,\n",
        "         verbose=1,\n",
        "         shuffle=False\n",
        "         )"
      ],
      "metadata": {
        "colab": {
          "base_uri": "https://localhost:8080/"
        },
        "id": "KUYWXGGfVRTc",
        "outputId": "2f37214c-4ec9-4909-c020-7dd07b5dd22d"
      },
      "execution_count": 20,
      "outputs": [
        {
          "output_type": "stream",
          "name": "stdout",
          "text": [
            "Epoch 1/150\n",
            "2/2 [==============================] - 2s 17ms/step - loss: 26144.8789\n",
            "Epoch 2/150\n",
            "2/2 [==============================] - 0s 9ms/step - loss: 14750.2725\n",
            "Epoch 3/150\n",
            "2/2 [==============================] - 0s 9ms/step - loss: 2803.5750\n",
            "Epoch 4/150\n",
            "2/2 [==============================] - 0s 14ms/step - loss: 645.9047\n",
            "Epoch 5/150\n",
            "2/2 [==============================] - 0s 11ms/step - loss: 1276.4618\n",
            "Epoch 6/150\n",
            "2/2 [==============================] - 0s 11ms/step - loss: 1730.7281\n",
            "Epoch 7/150\n",
            "2/2 [==============================] - 0s 10ms/step - loss: 1917.6416\n",
            "Epoch 8/150\n",
            "2/2 [==============================] - 0s 10ms/step - loss: 1702.9044\n",
            "Epoch 9/150\n",
            "2/2 [==============================] - 0s 9ms/step - loss: 1241.3732\n",
            "Epoch 10/150\n",
            "2/2 [==============================] - 0s 11ms/step - loss: 813.7167\n",
            "Epoch 11/150\n",
            "2/2 [==============================] - 0s 9ms/step - loss: 632.7870\n",
            "Epoch 12/150\n",
            "2/2 [==============================] - 0s 11ms/step - loss: 565.1625\n",
            "Epoch 13/150\n",
            "2/2 [==============================] - 0s 10ms/step - loss: 550.1228\n",
            "Epoch 14/150\n",
            "2/2 [==============================] - 0s 10ms/step - loss: 541.0043\n",
            "Epoch 15/150\n",
            "2/2 [==============================] - 0s 10ms/step - loss: 523.1528\n",
            "Epoch 16/150\n",
            "2/2 [==============================] - 0s 11ms/step - loss: 479.6321\n",
            "Epoch 17/150\n",
            "2/2 [==============================] - 0s 11ms/step - loss: 469.0300\n",
            "Epoch 18/150\n",
            "2/2 [==============================] - 0s 11ms/step - loss: 481.6401\n",
            "Epoch 19/150\n",
            "2/2 [==============================] - 0s 13ms/step - loss: 414.5195\n",
            "Epoch 20/150\n",
            "2/2 [==============================] - 0s 10ms/step - loss: 395.3799\n",
            "Epoch 21/150\n",
            "2/2 [==============================] - 0s 9ms/step - loss: 406.9124\n",
            "Epoch 22/150\n",
            "2/2 [==============================] - 0s 9ms/step - loss: 385.5839\n",
            "Epoch 23/150\n",
            "2/2 [==============================] - 0s 9ms/step - loss: 390.8500\n",
            "Epoch 24/150\n",
            "2/2 [==============================] - 0s 12ms/step - loss: 395.3616\n",
            "Epoch 25/150\n",
            "2/2 [==============================] - 0s 14ms/step - loss: 392.8282\n",
            "Epoch 26/150\n",
            "2/2 [==============================] - 0s 11ms/step - loss: 372.9825\n",
            "Epoch 27/150\n",
            "2/2 [==============================] - 0s 10ms/step - loss: 333.9256\n",
            "Epoch 28/150\n",
            "2/2 [==============================] - 0s 12ms/step - loss: 301.9414\n",
            "Epoch 29/150\n",
            "2/2 [==============================] - 0s 10ms/step - loss: 274.8502\n",
            "Epoch 30/150\n",
            "2/2 [==============================] - 0s 9ms/step - loss: 247.5486\n",
            "Epoch 31/150\n",
            "2/2 [==============================] - 0s 11ms/step - loss: 228.7753\n",
            "Epoch 32/150\n",
            "2/2 [==============================] - 0s 13ms/step - loss: 214.7280\n",
            "Epoch 33/150\n",
            "2/2 [==============================] - 0s 11ms/step - loss: 206.8755\n",
            "Epoch 34/150\n",
            "2/2 [==============================] - 0s 11ms/step - loss: 206.4008\n",
            "Epoch 35/150\n",
            "2/2 [==============================] - 0s 12ms/step - loss: 199.8608\n",
            "Epoch 36/150\n",
            "2/2 [==============================] - 0s 12ms/step - loss: 191.3147\n",
            "Epoch 37/150\n",
            "2/2 [==============================] - 0s 15ms/step - loss: 183.5502\n",
            "Epoch 38/150\n",
            "2/2 [==============================] - 0s 10ms/step - loss: 180.6078\n",
            "Epoch 39/150\n",
            "2/2 [==============================] - 0s 13ms/step - loss: 177.6860\n",
            "Epoch 40/150\n",
            "2/2 [==============================] - 0s 10ms/step - loss: 170.3095\n",
            "Epoch 41/150\n",
            "2/2 [==============================] - 0s 12ms/step - loss: 164.1357\n",
            "Epoch 42/150\n",
            "2/2 [==============================] - 0s 12ms/step - loss: 164.8370\n",
            "Epoch 43/150\n",
            "2/2 [==============================] - 0s 29ms/step - loss: 158.0597\n",
            "Epoch 44/150\n",
            "2/2 [==============================] - 0s 13ms/step - loss: 154.7092\n",
            "Epoch 45/150\n",
            "2/2 [==============================] - 0s 13ms/step - loss: 152.9271\n",
            "Epoch 46/150\n",
            "2/2 [==============================] - 0s 12ms/step - loss: 147.4764\n",
            "Epoch 47/150\n",
            "2/2 [==============================] - 0s 10ms/step - loss: 142.5313\n",
            "Epoch 48/150\n",
            "2/2 [==============================] - 0s 12ms/step - loss: 136.5530\n",
            "Epoch 49/150\n",
            "2/2 [==============================] - 0s 11ms/step - loss: 147.0696\n",
            "Epoch 50/150\n",
            "2/2 [==============================] - 0s 11ms/step - loss: 137.8170\n",
            "Epoch 51/150\n",
            "2/2 [==============================] - 0s 12ms/step - loss: 137.9966\n",
            "Epoch 52/150\n",
            "2/2 [==============================] - 0s 11ms/step - loss: 129.1867\n",
            "Epoch 53/150\n",
            "2/2 [==============================] - 0s 11ms/step - loss: 125.6958\n",
            "Epoch 54/150\n",
            "2/2 [==============================] - 0s 10ms/step - loss: 121.9206\n",
            "Epoch 55/150\n",
            "2/2 [==============================] - 0s 10ms/step - loss: 122.2063\n",
            "Epoch 56/150\n",
            "2/2 [==============================] - 0s 10ms/step - loss: 123.3178\n",
            "Epoch 57/150\n",
            "2/2 [==============================] - 0s 11ms/step - loss: 118.1596\n",
            "Epoch 58/150\n",
            "2/2 [==============================] - 0s 10ms/step - loss: 116.8485\n",
            "Epoch 59/150\n",
            "2/2 [==============================] - 0s 10ms/step - loss: 117.8446\n",
            "Epoch 60/150\n",
            "2/2 [==============================] - 0s 10ms/step - loss: 115.4213\n",
            "Epoch 61/150\n",
            "2/2 [==============================] - 0s 10ms/step - loss: 112.0876\n",
            "Epoch 62/150\n",
            "2/2 [==============================] - 0s 10ms/step - loss: 116.6862\n",
            "Epoch 63/150\n",
            "2/2 [==============================] - 0s 13ms/step - loss: 110.4678\n",
            "Epoch 64/150\n",
            "2/2 [==============================] - 0s 11ms/step - loss: 108.9451\n",
            "Epoch 65/150\n",
            "2/2 [==============================] - 0s 11ms/step - loss: 108.0559\n",
            "Epoch 66/150\n",
            "2/2 [==============================] - 0s 10ms/step - loss: 105.5499\n",
            "Epoch 67/150\n",
            "2/2 [==============================] - 0s 10ms/step - loss: 107.5006\n",
            "Epoch 68/150\n",
            "2/2 [==============================] - 0s 11ms/step - loss: 108.4210\n",
            "Epoch 69/150\n",
            "2/2 [==============================] - 0s 13ms/step - loss: 107.3981\n",
            "Epoch 70/150\n",
            "2/2 [==============================] - 0s 9ms/step - loss: 111.9715\n",
            "Epoch 71/150\n",
            "2/2 [==============================] - 0s 9ms/step - loss: 106.4887\n",
            "Epoch 72/150\n",
            "2/2 [==============================] - 0s 15ms/step - loss: 108.7822\n",
            "Epoch 73/150\n",
            "2/2 [==============================] - 0s 10ms/step - loss: 106.4816\n",
            "Epoch 74/150\n",
            "2/2 [==============================] - 0s 10ms/step - loss: 104.3774\n",
            "Epoch 75/150\n",
            "2/2 [==============================] - 0s 11ms/step - loss: 106.1833\n",
            "Epoch 76/150\n",
            "2/2 [==============================] - 0s 10ms/step - loss: 101.9356\n",
            "Epoch 77/150\n",
            "2/2 [==============================] - 0s 10ms/step - loss: 101.0151\n",
            "Epoch 78/150\n",
            "2/2 [==============================] - 0s 12ms/step - loss: 103.2809\n",
            "Epoch 79/150\n",
            "2/2 [==============================] - 0s 10ms/step - loss: 100.9475\n",
            "Epoch 80/150\n",
            "2/2 [==============================] - 0s 10ms/step - loss: 106.8986\n",
            "Epoch 81/150\n",
            "2/2 [==============================] - 0s 10ms/step - loss: 104.9404\n",
            "Epoch 82/150\n",
            "2/2 [==============================] - 0s 10ms/step - loss: 99.3576\n",
            "Epoch 83/150\n",
            "2/2 [==============================] - 0s 9ms/step - loss: 102.3612\n",
            "Epoch 84/150\n",
            "2/2 [==============================] - 0s 10ms/step - loss: 97.6192\n",
            "Epoch 85/150\n",
            "2/2 [==============================] - 0s 12ms/step - loss: 95.4498\n",
            "Epoch 86/150\n",
            "2/2 [==============================] - 0s 9ms/step - loss: 94.7511\n",
            "Epoch 87/150\n",
            "2/2 [==============================] - 0s 10ms/step - loss: 97.2266\n",
            "Epoch 88/150\n",
            "2/2 [==============================] - 0s 9ms/step - loss: 93.7280\n",
            "Epoch 89/150\n",
            "2/2 [==============================] - 0s 9ms/step - loss: 95.8697\n",
            "Epoch 90/150\n",
            "2/2 [==============================] - 0s 10ms/step - loss: 93.2320\n",
            "Epoch 91/150\n",
            "2/2 [==============================] - 0s 10ms/step - loss: 93.7871\n",
            "Epoch 92/150\n",
            "2/2 [==============================] - 0s 14ms/step - loss: 92.5841\n",
            "Epoch 93/150\n",
            "2/2 [==============================] - 0s 10ms/step - loss: 90.8627\n",
            "Epoch 94/150\n",
            "2/2 [==============================] - 0s 10ms/step - loss: 90.3967\n",
            "Epoch 95/150\n",
            "2/2 [==============================] - 0s 11ms/step - loss: 91.9428\n",
            "Epoch 96/150\n",
            "2/2 [==============================] - 0s 13ms/step - loss: 89.2496\n",
            "Epoch 97/150\n",
            "2/2 [==============================] - 0s 9ms/step - loss: 89.1872\n",
            "Epoch 98/150\n",
            "2/2 [==============================] - 0s 9ms/step - loss: 89.5505\n",
            "Epoch 99/150\n",
            "2/2 [==============================] - 0s 10ms/step - loss: 88.4580\n",
            "Epoch 100/150\n",
            "2/2 [==============================] - 0s 10ms/step - loss: 88.0066\n",
            "Epoch 101/150\n",
            "2/2 [==============================] - 0s 10ms/step - loss: 87.3374\n",
            "Epoch 102/150\n",
            "2/2 [==============================] - 0s 10ms/step - loss: 86.7083\n",
            "Epoch 103/150\n",
            "2/2 [==============================] - 0s 13ms/step - loss: 86.7933\n",
            "Epoch 104/150\n",
            "2/2 [==============================] - 0s 16ms/step - loss: 86.0029\n",
            "Epoch 105/150\n",
            "2/2 [==============================] - 0s 10ms/step - loss: 85.5943\n",
            "Epoch 106/150\n",
            "2/2 [==============================] - 0s 10ms/step - loss: 85.2712\n",
            "Epoch 107/150\n",
            "2/2 [==============================] - 0s 11ms/step - loss: 84.9888\n",
            "Epoch 108/150\n",
            "2/2 [==============================] - 0s 10ms/step - loss: 86.7680\n",
            "Epoch 109/150\n",
            "2/2 [==============================] - 0s 10ms/step - loss: 97.5145\n",
            "Epoch 110/150\n",
            "2/2 [==============================] - 0s 16ms/step - loss: 116.4224\n",
            "Epoch 111/150\n",
            "2/2 [==============================] - 0s 11ms/step - loss: 140.5369\n",
            "Epoch 112/150\n",
            "2/2 [==============================] - 0s 11ms/step - loss: 138.0953\n",
            "Epoch 113/150\n",
            "2/2 [==============================] - 0s 11ms/step - loss: 133.5465\n",
            "Epoch 114/150\n",
            "2/2 [==============================] - 0s 9ms/step - loss: 145.6310\n",
            "Epoch 115/150\n",
            "2/2 [==============================] - 0s 10ms/step - loss: 126.6795\n",
            "Epoch 116/150\n",
            "2/2 [==============================] - 0s 9ms/step - loss: 140.8680\n",
            "Epoch 117/150\n",
            "2/2 [==============================] - 0s 10ms/step - loss: 132.8083\n",
            "Epoch 118/150\n",
            "2/2 [==============================] - 0s 10ms/step - loss: 122.8694\n",
            "Epoch 119/150\n",
            "2/2 [==============================] - 0s 10ms/step - loss: 116.0724\n",
            "Epoch 120/150\n",
            "2/2 [==============================] - 0s 9ms/step - loss: 111.1929\n",
            "Epoch 121/150\n",
            "2/2 [==============================] - 0s 11ms/step - loss: 117.7772\n",
            "Epoch 122/150\n",
            "2/2 [==============================] - 0s 10ms/step - loss: 139.1358\n",
            "Epoch 123/150\n",
            "2/2 [==============================] - 0s 12ms/step - loss: 147.7661\n",
            "Epoch 124/150\n",
            "2/2 [==============================] - 0s 11ms/step - loss: 124.7003\n",
            "Epoch 125/150\n",
            "2/2 [==============================] - 0s 11ms/step - loss: 110.4601\n",
            "Epoch 126/150\n",
            "2/2 [==============================] - 0s 10ms/step - loss: 117.2670\n",
            "Epoch 127/150\n",
            "2/2 [==============================] - 0s 10ms/step - loss: 110.0680\n",
            "Epoch 128/150\n",
            "2/2 [==============================] - 0s 10ms/step - loss: 104.7022\n",
            "Epoch 129/150\n",
            "2/2 [==============================] - 0s 10ms/step - loss: 119.0896\n",
            "Epoch 130/150\n",
            "2/2 [==============================] - 0s 11ms/step - loss: 107.2214\n",
            "Epoch 131/150\n",
            "2/2 [==============================] - 0s 10ms/step - loss: 103.7206\n",
            "Epoch 132/150\n",
            "2/2 [==============================] - 0s 10ms/step - loss: 103.9596\n",
            "Epoch 133/150\n",
            "2/2 [==============================] - 0s 10ms/step - loss: 98.2989\n",
            "Epoch 134/150\n",
            "2/2 [==============================] - 0s 11ms/step - loss: 96.9474\n",
            "Epoch 135/150\n",
            "2/2 [==============================] - 0s 10ms/step - loss: 101.2043\n",
            "Epoch 136/150\n",
            "2/2 [==============================] - 0s 10ms/step - loss: 96.9560\n",
            "Epoch 137/150\n",
            "2/2 [==============================] - 0s 11ms/step - loss: 95.2567\n",
            "Epoch 138/150\n",
            "2/2 [==============================] - 0s 12ms/step - loss: 95.2417\n",
            "Epoch 139/150\n",
            "2/2 [==============================] - 0s 15ms/step - loss: 93.7028\n",
            "Epoch 140/150\n",
            "2/2 [==============================] - 0s 10ms/step - loss: 93.1234\n",
            "Epoch 141/150\n",
            "2/2 [==============================] - 0s 11ms/step - loss: 93.0823\n",
            "Epoch 142/150\n",
            "2/2 [==============================] - 0s 11ms/step - loss: 92.0318\n",
            "Epoch 143/150\n",
            "2/2 [==============================] - 0s 10ms/step - loss: 91.7087\n",
            "Epoch 144/150\n",
            "2/2 [==============================] - 0s 11ms/step - loss: 91.1806\n",
            "Epoch 145/150\n",
            "2/2 [==============================] - 0s 10ms/step - loss: 90.1511\n",
            "Epoch 146/150\n",
            "2/2 [==============================] - 0s 10ms/step - loss: 89.9008\n",
            "Epoch 147/150\n",
            "2/2 [==============================] - 0s 10ms/step - loss: 89.3050\n",
            "Epoch 148/150\n",
            "2/2 [==============================] - 0s 10ms/step - loss: 89.3977\n",
            "Epoch 149/150\n",
            "2/2 [==============================] - 0s 10ms/step - loss: 88.7216\n",
            "Epoch 150/150\n",
            "2/2 [==============================] - 0s 10ms/step - loss: 88.4301\n"
          ]
        },
        {
          "output_type": "execute_result",
          "data": {
            "text/plain": [
              "<keras.callbacks.History at 0x7f22c8633d00>"
            ]
          },
          "metadata": {},
          "execution_count": 20
        }
      ]
    },
    {
      "cell_type": "code",
      "source": [
        "ypred = model.predict(xtest)"
      ],
      "metadata": {
        "colab": {
          "base_uri": "https://localhost:8080/"
        },
        "id": "eE8PO0C-VTNr",
        "outputId": "e1cff544-3a2b-4a0d-a80d-4c08199e76e6"
      },
      "execution_count": 21,
      "outputs": [
        {
          "output_type": "stream",
          "name": "stdout",
          "text": [
            "2/2 [==============================] - 0s 6ms/step\n"
          ]
        }
      ]
    },
    {
      "cell_type": "code",
      "source": [
        "plt.figure(figsize=(12,7))\n",
        "plt.plot(np.arange(0, len(xtrain)), ytrain, 'g', label=\"history\")\n",
        "plt.plot(np.arange(len(xtrain), len(xtrain) + len(xtest)), ypred, 'r', label=\"predictions\")\n",
        "plt.plot(np.arange(len(xtrain), len(xtrain) + len(xtest)), ytest, 'b', label=\"Actual\")\n",
        "plt.xlabel(\"Time ---------------->\")\n",
        "plt.ylabel(\"Price ---------------->\")\n",
        "plt.title(\"Plotting Predicted And Actual Values Together against the Entire Timeframe\")"
      ],
      "metadata": {
        "colab": {
          "base_uri": "https://localhost:8080/",
          "height": 475
        },
        "id": "hL7iEA0UZmm7",
        "outputId": "6672152e-a686-4f63-f28e-bdaab659a38c"
      },
      "execution_count": 22,
      "outputs": [
        {
          "output_type": "execute_result",
          "data": {
            "text/plain": [
              "Text(0.5, 1.0, 'Plotting Predicted And Actual Values Together against the Entire Timeframe')"
            ]
          },
          "metadata": {},
          "execution_count": 22
        },
        {
          "output_type": "display_data",
          "data": {
            "text/plain": [
              "<Figure size 864x504 with 1 Axes>"
            ],
            "image/png": "[encoded data removed]"
          },
          "metadata": {
            "needs_background": "light"
          }
        }
      ]
    },
    {
      "cell_type": "code",
      "source": [
        "from sklearn.metrics import mean_squared_error\n",
        "mean_squared_error(ytest, ypred,squared=False)"
      ],
      "metadata": {
        "colab": {
          "base_uri": "https://localhost:8080/"
        },
        "id": "y4IzgJYNaW27",
        "outputId": "8f9908b4-ce2a-4c4f-e6a5-2f1b9fd40aa2"
      },
      "execution_count": 23,
      "outputs": [
        {
          "output_type": "execute_result",
          "data": {
            "text/plain": [
              "11.985547236106617"
            ]
          },
          "metadata": {},
          "execution_count": 23
        }
      ]
    },
    {
      "cell_type": "code",
      "source": [
        "test = new_df.iloc[train_size+10:].copy()\n",
        "\n",
        "test[\"Predictions\"] = ypred\n",
        "test[[\"High\", \"Predictions\"]].plot()\n",
        "plt.xlabel(\"Time ---------------->\")\n",
        "plt.ylabel(\"Price ---------------->\")\n",
        "plt.title(\"Plotting Predicted And Actual Values Together against the Testing Timeframe\")"
      ],
      "metadata": {
        "colab": {
          "base_uri": "https://localhost:8080/",
          "height": 318
        },
        "id": "gkRlbFqAaYyT",
        "outputId": "c6a78bdf-47da-4315-9b9f-f5843b874aaf"
      },
      "execution_count": 24,
      "outputs": [
        {
          "output_type": "execute_result",
          "data": {
            "text/plain": [
              "Text(0.5, 1.0, 'Plotting Predicted And Actual Values Together against the Testing Timeframe')"
            ]
          },
          "metadata": {},
          "execution_count": 24
        },
        {
          "output_type": "display_data",
          "data": {
            "text/plain": [
              "<Figure size 432x288 with 1 Axes>"
            ],
            "image/png": "[encoded data removed]"
          },
          "metadata": {
            "needs_background": "light"
          }
        }
      ]
    },
    {
      "cell_type": "code",
      "source": [
        "model = Sequential()\n",
        "model.add(LSTM(100, activation='relu',\n",
        "           input_shape=(10,1), \n",
        "           return_sequences=True))\n",
        "model.add(Dropout(0.2))\n",
        "\n",
        "# hidden layer 2\n",
        "model.add(LSTM(100,activation='relu'))\n",
        "model.add(Dropout(0.2))\n",
        "\n",
        "# output layer\n",
        "model.add(Dense(1))\n",
        "model.compile(loss=\"mean_squared_error\", optimizer=\"adam\")"
      ],
      "metadata": {
        "id": "IYa_InD3abE7"
      },
      "execution_count": 25,
      "outputs": []
    },
    {
      "cell_type": "code",
      "source": [
        "model.fit(xtrain,ytrain,epochs=300,batch_size=30,verbose=1)"
      ],
      "metadata": {
        "colab": {
          "base_uri": "https://localhost:8080/"
        },
        "id": "a33dUPyOad5L",
        "outputId": "ea324f08-2fc4-4d14-a4b2-ea2d5cc6215e"
      },
      "execution_count": 26,
      "outputs": [
        {
          "output_type": "stream",
          "name": "stdout",
          "text": [
            "Epoch 1/300\n",
            "7/7 [==============================] - 3s 18ms/step - loss: 35720.0781\n",
            "Epoch 2/300\n",
            "7/7 [==============================] - 0s 16ms/step - loss: 11631.3633\n",
            "Epoch 3/300\n",
            "7/7 [==============================] - 0s 18ms/step - loss: 8174.8540\n",
            "Epoch 4/300\n",
            "7/7 [==============================] - 0s 34ms/step - loss: 10845.7021\n",
            "Epoch 5/300\n",
            "7/7 [==============================] - 0s 35ms/step - loss: 6656.8027\n",
            "Epoch 6/300\n",
            "7/7 [==============================] - 0s 35ms/step - loss: 6892.4014\n",
            "Epoch 7/300\n",
            "7/7 [==============================] - 0s 35ms/step - loss: 4372.4004\n",
            "Epoch 8/300\n",
            "7/7 [==============================] - 0s 28ms/step - loss: 4062.2815\n",
            "Epoch 9/300\n",
            "7/7 [==============================] - 0s 31ms/step - loss: 3262.3062\n",
            "Epoch 10/300\n",
            "7/7 [==============================] - 0s 32ms/step - loss: 3186.9548\n",
            "Epoch 11/300\n",
            "7/7 [==============================] - 0s 34ms/step - loss: 4293.8364\n",
            "Epoch 12/300\n",
            "7/7 [==============================] - 0s 43ms/step - loss: 3829.9204\n",
            "Epoch 13/300\n",
            "7/7 [==============================] - 0s 39ms/step - loss: 3472.6082\n",
            "Epoch 14/300\n",
            "7/7 [==============================] - 0s 41ms/step - loss: 3152.0977\n",
            "Epoch 15/300\n",
            "7/7 [==============================] - 0s 31ms/step - loss: 2589.9990\n",
            "Epoch 16/300\n",
            "7/7 [==============================] - 0s 37ms/step - loss: 2484.3340\n",
            "Epoch 17/300\n",
            "7/7 [==============================] - 0s 54ms/step - loss: 3824.6516\n",
            "Epoch 18/300\n",
            "7/7 [==============================] - 0s 60ms/step - loss: 3028.9062\n",
            "Epoch 19/300\n",
            "7/7 [==============================] - 1s 86ms/step - loss: 2241.9480\n",
            "Epoch 20/300\n",
            "7/7 [==============================] - 0s 55ms/step - loss: 2433.0693\n",
            "Epoch 21/300\n",
            "7/7 [==============================] - 0s 42ms/step - loss: 2621.6243\n",
            "Epoch 22/300\n",
            "7/7 [==============================] - 0s 53ms/step - loss: 2781.8188\n",
            "Epoch 23/300\n",
            "7/7 [==============================] - 0s 47ms/step - loss: 2266.2812\n",
            "Epoch 24/300\n",
            "7/7 [==============================] - 0s 42ms/step - loss: 2250.7200\n",
            "Epoch 25/300\n",
            "7/7 [==============================] - 0s 34ms/step - loss: 2373.3423\n",
            "Epoch 26/300\n",
            "7/7 [==============================] - 0s 35ms/step - loss: 2329.5430\n",
            "Epoch 27/300\n",
            "7/7 [==============================] - 0s 48ms/step - loss: 2190.5444\n",
            "Epoch 28/300\n",
            "7/7 [==============================] - 0s 43ms/step - loss: 2516.0771\n",
            "Epoch 29/300\n",
            "7/7 [==============================] - 0s 36ms/step - loss: 2204.3628\n",
            "Epoch 30/300\n",
            "7/7 [==============================] - 0s 30ms/step - loss: 2370.8328\n",
            "Epoch 31/300\n",
            "7/7 [==============================] - 0s 35ms/step - loss: 2537.0149\n",
            "Epoch 32/300\n",
            "7/7 [==============================] - 0s 36ms/step - loss: 2583.2502\n",
            "Epoch 33/300\n",
            "7/7 [==============================] - 0s 43ms/step - loss: 2457.8708\n",
            "Epoch 34/300\n",
            "7/7 [==============================] - 0s 38ms/step - loss: 1815.4503\n",
            "Epoch 35/300\n",
            "7/7 [==============================] - 0s 33ms/step - loss: 1338.8125\n",
            "Epoch 36/300\n",
            "7/7 [==============================] - 0s 30ms/step - loss: 1748.6870\n",
            "Epoch 37/300\n",
            "7/7 [==============================] - 0s 36ms/step - loss: 2119.4841\n",
            "Epoch 38/300\n",
            "7/7 [==============================] - 0s 35ms/step - loss: 1802.3237\n",
            "Epoch 39/300\n",
            "7/7 [==============================] - 0s 33ms/step - loss: 1850.2240\n",
            "Epoch 40/300\n",
            "7/7 [==============================] - 0s 31ms/step - loss: 1804.7632\n",
            "Epoch 41/300\n",
            "7/7 [==============================] - 0s 33ms/step - loss: 2006.2708\n",
            "Epoch 42/300\n",
            "7/7 [==============================] - 0s 32ms/step - loss: 1736.2650\n",
            "Epoch 43/300\n",
            "7/7 [==============================] - 0s 44ms/step - loss: 1623.6796\n",
            "Epoch 44/300\n",
            "7/7 [==============================] - 0s 30ms/step - loss: 1623.3625\n",
            "Epoch 45/300\n",
            "7/7 [==============================] - 0s 32ms/step - loss: 1838.9545\n",
            "Epoch 46/300\n",
            "7/7 [==============================] - 0s 38ms/step - loss: 2070.5281\n",
            "Epoch 47/300\n",
            "7/7 [==============================] - 0s 47ms/step - loss: 1556.0255\n",
            "Epoch 48/300\n",
            "7/7 [==============================] - 0s 46ms/step - loss: 1637.9596\n",
            "Epoch 49/300\n",
            "7/7 [==============================] - 0s 46ms/step - loss: 1797.8186\n",
            "Epoch 50/300\n",
            "7/7 [==============================] - 0s 39ms/step - loss: 1940.5281\n",
            "Epoch 51/300\n",
            "7/7 [==============================] - 0s 36ms/step - loss: 1504.9148\n",
            "Epoch 52/300\n",
            "7/7 [==============================] - 0s 44ms/step - loss: 1403.4242\n",
            "Epoch 53/300\n",
            "7/7 [==============================] - 0s 32ms/step - loss: 1718.0513\n",
            "Epoch 54/300\n",
            "7/7 [==============================] - 0s 39ms/step - loss: 1382.6293\n",
            "Epoch 55/300\n",
            "7/7 [==============================] - 0s 35ms/step - loss: 1331.9130\n",
            "Epoch 56/300\n",
            "7/7 [==============================] - 0s 48ms/step - loss: 1656.0100\n",
            "Epoch 57/300\n",
            "7/7 [==============================] - 0s 36ms/step - loss: 1562.8990\n",
            "Epoch 58/300\n",
            "7/7 [==============================] - 0s 32ms/step - loss: 1744.1581\n",
            "Epoch 59/300\n",
            "7/7 [==============================] - 0s 35ms/step - loss: 1402.0422\n",
            "Epoch 60/300\n",
            "7/7 [==============================] - 0s 37ms/step - loss: 1310.1202\n",
            "Epoch 61/300\n",
            "7/7 [==============================] - 0s 35ms/step - loss: 1557.2775\n",
            "Epoch 62/300\n",
            "7/7 [==============================] - 0s 42ms/step - loss: 1574.2812\n",
            "Epoch 63/300\n",
            "7/7 [==============================] - 0s 48ms/step - loss: 1893.3102\n",
            "Epoch 64/300\n",
            "7/7 [==============================] - 0s 47ms/step - loss: 1575.4835\n",
            "Epoch 65/300\n",
            "7/7 [==============================] - 0s 45ms/step - loss: 1763.9484\n",
            "Epoch 66/300\n",
            "7/7 [==============================] - 0s 41ms/step - loss: 1526.5811\n",
            "Epoch 67/300\n",
            "7/7 [==============================] - 0s 52ms/step - loss: 1752.6310\n",
            "Epoch 68/300\n",
            "7/7 [==============================] - 0s 39ms/step - loss: 1567.4203\n",
            "Epoch 69/300\n",
            "7/7 [==============================] - 0s 58ms/step - loss: 1395.8130\n",
            "Epoch 70/300\n",
            "7/7 [==============================] - 0s 51ms/step - loss: 1421.8969\n",
            "Epoch 71/300\n",
            "7/7 [==============================] - 0s 40ms/step - loss: 1343.7683\n",
            "Epoch 72/300\n",
            "7/7 [==============================] - 0s 41ms/step - loss: 1363.3466\n",
            "Epoch 73/300\n",
            "7/7 [==============================] - 0s 32ms/step - loss: 1340.2395\n",
            "Epoch 74/300\n",
            "7/7 [==============================] - 0s 31ms/step - loss: 1581.5602\n",
            "Epoch 75/300\n",
            "7/7 [==============================] - 0s 40ms/step - loss: 1514.5964\n",
            "Epoch 76/300\n",
            "7/7 [==============================] - 0s 53ms/step - loss: 1672.8424\n",
            "Epoch 77/300\n",
            "7/7 [==============================] - 0s 46ms/step - loss: 1498.8058\n",
            "Epoch 78/300\n",
            "7/7 [==============================] - 0s 49ms/step - loss: 1424.5781\n",
            "Epoch 79/300\n",
            "7/7 [==============================] - 0s 52ms/step - loss: 1377.3251\n",
            "Epoch 80/300\n",
            "7/7 [==============================] - 0s 48ms/step - loss: 1022.2370\n",
            "Epoch 81/300\n",
            "7/7 [==============================] - 0s 64ms/step - loss: 1260.2761\n",
            "Epoch 82/300\n",
            "7/7 [==============================] - 0s 41ms/step - loss: 1168.8190\n",
            "Epoch 83/300\n",
            "7/7 [==============================] - 0s 32ms/step - loss: 1149.7904\n",
            "Epoch 84/300\n",
            "7/7 [==============================] - 0s 52ms/step - loss: 1344.1954\n",
            "Epoch 85/300\n",
            "7/7 [==============================] - 0s 32ms/step - loss: 1462.4418\n",
            "Epoch 86/300\n",
            "7/7 [==============================] - 0s 44ms/step - loss: 1501.6694\n",
            "Epoch 87/300\n",
            "7/7 [==============================] - 0s 38ms/step - loss: 1236.3920\n",
            "Epoch 88/300\n",
            "7/7 [==============================] - 0s 32ms/step - loss: 1187.6244\n",
            "Epoch 89/300\n",
            "7/7 [==============================] - 0s 35ms/step - loss: 1234.4033\n",
            "Epoch 90/300\n",
            "7/7 [==============================] - 0s 34ms/step - loss: 1377.4824\n",
            "Epoch 91/300\n",
            "7/7 [==============================] - 0s 47ms/step - loss: 1233.5341\n",
            "Epoch 92/300\n",
            "7/7 [==============================] - 0s 32ms/step - loss: 1177.0653\n",
            "Epoch 93/300\n",
            "7/7 [==============================] - 0s 34ms/step - loss: 1696.1899\n",
            "Epoch 94/300\n",
            "7/7 [==============================] - 0s 34ms/step - loss: 1344.2166\n",
            "Epoch 95/300\n",
            "7/7 [==============================] - 0s 40ms/step - loss: 1412.2494\n",
            "Epoch 96/300\n",
            "7/7 [==============================] - 0s 37ms/step - loss: 1333.6268\n",
            "Epoch 97/300\n",
            "7/7 [==============================] - 0s 40ms/step - loss: 1311.8268\n",
            "Epoch 98/300\n",
            "7/7 [==============================] - 0s 44ms/step - loss: 1414.9423\n",
            "Epoch 99/300\n",
            "7/7 [==============================] - 0s 35ms/step - loss: 1503.2212\n",
            "Epoch 100/300\n",
            "7/7 [==============================] - 0s 49ms/step - loss: 1237.8835\n",
            "Epoch 101/300\n",
            "7/7 [==============================] - 0s 24ms/step - loss: 1145.3114\n",
            "Epoch 102/300\n",
            "7/7 [==============================] - 0s 40ms/step - loss: 1454.1110\n",
            "Epoch 103/300\n",
            "7/7 [==============================] - 0s 54ms/step - loss: 1551.8766\n",
            "Epoch 104/300\n",
            "7/7 [==============================] - 0s 46ms/step - loss: 1565.6270\n",
            "Epoch 105/300\n",
            "7/7 [==============================] - 0s 31ms/step - loss: 1587.8073\n",
            "Epoch 106/300\n",
            "7/7 [==============================] - 0s 61ms/step - loss: 1458.8711\n",
            "Epoch 107/300\n",
            "7/7 [==============================] - 0s 61ms/step - loss: 1228.6251\n",
            "Epoch 108/300\n",
            "7/7 [==============================] - 0s 63ms/step - loss: 1063.8317\n",
            "Epoch 109/300\n",
            "7/7 [==============================] - 0s 46ms/step - loss: 1401.3712\n",
            "Epoch 110/300\n",
            "7/7 [==============================] - 0s 60ms/step - loss: 1273.8359\n",
            "Epoch 111/300\n",
            "7/7 [==============================] - 0s 49ms/step - loss: 1344.7039\n",
            "Epoch 112/300\n",
            "7/7 [==============================] - 0s 50ms/step - loss: 972.7045\n",
            "Epoch 113/300\n",
            "7/7 [==============================] - 0s 49ms/step - loss: 1391.4933\n",
            "Epoch 114/300\n",
            "7/7 [==============================] - 0s 23ms/step - loss: 998.6470\n",
            "Epoch 115/300\n",
            "7/7 [==============================] - 0s 21ms/step - loss: 1060.3796\n",
            "Epoch 116/300\n",
            "7/7 [==============================] - 0s 19ms/step - loss: 1331.1707\n",
            "Epoch 117/300\n",
            "7/7 [==============================] - 0s 18ms/step - loss: 1431.4163\n",
            "Epoch 118/300\n",
            "7/7 [==============================] - 0s 16ms/step - loss: 1252.2211\n",
            "Epoch 119/300\n",
            "7/7 [==============================] - 0s 16ms/step - loss: 1011.5732\n",
            "Epoch 120/300\n",
            "7/7 [==============================] - 0s 16ms/step - loss: 1132.7849\n",
            "Epoch 121/300\n",
            "7/7 [==============================] - 0s 16ms/step - loss: 1395.5284\n",
            "Epoch 122/300\n",
            "7/7 [==============================] - 0s 16ms/step - loss: 1325.3645\n",
            "Epoch 123/300\n",
            "7/7 [==============================] - 0s 18ms/step - loss: 1205.6959\n",
            "Epoch 124/300\n",
            "7/7 [==============================] - 0s 17ms/step - loss: 1293.6213\n",
            "Epoch 125/300\n",
            "7/7 [==============================] - 0s 16ms/step - loss: 1138.1143\n",
            "Epoch 126/300\n",
            "7/7 [==============================] - 0s 16ms/step - loss: 1167.1719\n",
            "Epoch 127/300\n",
            "7/7 [==============================] - 0s 16ms/step - loss: 1175.6725\n",
            "Epoch 128/300\n",
            "7/7 [==============================] - 0s 18ms/step - loss: 1173.8649\n",
            "Epoch 129/300\n",
            "7/7 [==============================] - 0s 16ms/step - loss: 1160.6747\n",
            "Epoch 130/300\n",
            "7/7 [==============================] - 0s 16ms/step - loss: 1235.2054\n",
            "Epoch 131/300\n",
            "7/7 [==============================] - 0s 19ms/step - loss: 869.7095\n",
            "Epoch 132/300\n",
            "7/7 [==============================] - 0s 19ms/step - loss: 987.3135\n",
            "Epoch 133/300\n",
            "7/7 [==============================] - 0s 17ms/step - loss: 1133.5789\n",
            "Epoch 134/300\n",
            "7/7 [==============================] - 0s 22ms/step - loss: 1056.2805\n",
            "Epoch 135/300\n",
            "7/7 [==============================] - 0s 17ms/step - loss: 1330.9525\n",
            "Epoch 136/300\n",
            "7/7 [==============================] - 0s 16ms/step - loss: 1259.5918\n",
            "Epoch 137/300\n",
            "7/7 [==============================] - 0s 16ms/step - loss: 1284.2734\n",
            "Epoch 138/300\n",
            "7/7 [==============================] - 0s 17ms/step - loss: 1110.6204\n",
            "Epoch 139/300\n",
            "7/7 [==============================] - 0s 18ms/step - loss: 1069.2784\n",
            "Epoch 140/300\n",
            "7/7 [==============================] - 0s 16ms/step - loss: 1222.9399\n",
            "Epoch 141/300\n",
            "7/7 [==============================] - 0s 16ms/step - loss: 1057.9069\n",
            "Epoch 142/300\n",
            "7/7 [==============================] - 0s 17ms/step - loss: 1377.4954\n",
            "Epoch 143/300\n",
            "7/7 [==============================] - 0s 17ms/step - loss: 1287.5468\n",
            "Epoch 144/300\n",
            "7/7 [==============================] - 0s 19ms/step - loss: 981.3734\n",
            "Epoch 145/300\n",
            "7/7 [==============================] - 0s 18ms/step - loss: 1240.2841\n",
            "Epoch 146/300\n",
            "7/7 [==============================] - 0s 16ms/step - loss: 938.8450\n",
            "Epoch 147/300\n",
            "7/7 [==============================] - 0s 20ms/step - loss: 1189.1776\n",
            "Epoch 148/300\n",
            "7/7 [==============================] - 0s 16ms/step - loss: 1010.6409\n",
            "Epoch 149/300\n",
            "7/7 [==============================] - 0s 15ms/step - loss: 1005.7403\n",
            "Epoch 150/300\n",
            "7/7 [==============================] - 0s 19ms/step - loss: 1106.1801\n",
            "Epoch 151/300\n",
            "7/7 [==============================] - 0s 17ms/step - loss: 1169.0790\n",
            "Epoch 152/300\n",
            "7/7 [==============================] - 0s 16ms/step - loss: 1484.0901\n",
            "Epoch 153/300\n",
            "7/7 [==============================] - 0s 17ms/step - loss: 1183.7657\n",
            "Epoch 154/300\n",
            "7/7 [==============================] - 0s 19ms/step - loss: 1267.9371\n",
            "Epoch 155/300\n",
            "7/7 [==============================] - 0s 18ms/step - loss: 1030.2456\n",
            "Epoch 156/300\n",
            "7/7 [==============================] - 0s 18ms/step - loss: 1101.9467\n",
            "Epoch 157/300\n",
            "7/7 [==============================] - 0s 17ms/step - loss: 933.4293\n",
            "Epoch 158/300\n",
            "7/7 [==============================] - 0s 18ms/step - loss: 774.2313\n",
            "Epoch 159/300\n",
            "7/7 [==============================] - 0s 17ms/step - loss: 1094.3774\n",
            "Epoch 160/300\n",
            "7/7 [==============================] - 0s 19ms/step - loss: 1422.4015\n",
            "Epoch 161/300\n",
            "7/7 [==============================] - 0s 21ms/step - loss: 1124.9326\n",
            "Epoch 162/300\n",
            "7/7 [==============================] - 0s 17ms/step - loss: 1239.0771\n",
            "Epoch 163/300\n",
            "7/7 [==============================] - 0s 17ms/step - loss: 1073.2937\n",
            "Epoch 164/300\n",
            "7/7 [==============================] - 0s 17ms/step - loss: 959.3561\n",
            "Epoch 165/300\n",
            "7/7 [==============================] - 0s 16ms/step - loss: 1250.3018\n",
            "Epoch 166/300\n",
            "7/7 [==============================] - 0s 16ms/step - loss: 1108.6362\n",
            "Epoch 167/300\n",
            "7/7 [==============================] - 0s 17ms/step - loss: 1035.4619\n",
            "Epoch 168/300\n",
            "7/7 [==============================] - 0s 17ms/step - loss: 885.1848\n",
            "Epoch 169/300\n",
            "7/7 [==============================] - 0s 16ms/step - loss: 872.3502\n",
            "Epoch 170/300\n",
            "7/7 [==============================] - 0s 16ms/step - loss: 1122.2527\n",
            "Epoch 171/300\n",
            "7/7 [==============================] - 0s 19ms/step - loss: 1092.7052\n",
            "Epoch 172/300\n",
            "7/7 [==============================] - 0s 17ms/step - loss: 939.6744\n",
            "Epoch 173/300\n",
            "7/7 [==============================] - 0s 16ms/step - loss: 1100.9226\n",
            "Epoch 174/300\n",
            "7/7 [==============================] - 0s 18ms/step - loss: 1131.6327\n",
            "Epoch 175/300\n",
            "7/7 [==============================] - 0s 20ms/step - loss: 1006.3085\n",
            "Epoch 176/300\n",
            "7/7 [==============================] - 0s 19ms/step - loss: 892.1882\n",
            "Epoch 177/300\n",
            "7/7 [==============================] - 0s 18ms/step - loss: 1062.9161\n",
            "Epoch 178/300\n",
            "7/7 [==============================] - 0s 18ms/step - loss: 891.3755\n",
            "Epoch 179/300\n",
            "7/7 [==============================] - 0s 16ms/step - loss: 1007.6854\n",
            "Epoch 180/300\n",
            "7/7 [==============================] - 0s 17ms/step - loss: 1326.1234\n",
            "Epoch 181/300\n",
            "7/7 [==============================] - 0s 16ms/step - loss: 1219.3804\n",
            "Epoch 182/300\n",
            "7/7 [==============================] - 0s 20ms/step - loss: 1274.3005\n",
            "Epoch 183/300\n",
            "7/7 [==============================] - 0s 17ms/step - loss: 1008.8691\n",
            "Epoch 184/300\n",
            "7/7 [==============================] - 0s 17ms/step - loss: 1222.9424\n",
            "Epoch 185/300\n",
            "7/7 [==============================] - 0s 17ms/step - loss: 1436.2740\n",
            "Epoch 186/300\n",
            "7/7 [==============================] - 0s 19ms/step - loss: 1101.7571\n",
            "Epoch 187/300\n",
            "7/7 [==============================] - 0s 18ms/step - loss: 1053.1537\n",
            "Epoch 188/300\n",
            "7/7 [==============================] - 0s 16ms/step - loss: 1227.9313\n",
            "Epoch 189/300\n",
            "7/7 [==============================] - 0s 16ms/step - loss: 1453.3342\n",
            "Epoch 190/300\n",
            "7/7 [==============================] - 0s 21ms/step - loss: 1414.6270\n",
            "Epoch 191/300\n",
            "7/7 [==============================] - 0s 30ms/step - loss: 1225.1284\n",
            "Epoch 192/300\n",
            "7/7 [==============================] - 0s 30ms/step - loss: 1267.1119\n",
            "Epoch 193/300\n",
            "7/7 [==============================] - 0s 27ms/step - loss: 1064.6350\n",
            "Epoch 194/300\n",
            "7/7 [==============================] - 0s 28ms/step - loss: 1038.4657\n",
            "Epoch 195/300\n",
            "7/7 [==============================] - 0s 27ms/step - loss: 1014.1115\n",
            "Epoch 196/300\n",
            "7/7 [==============================] - 0s 34ms/step - loss: 1102.7482\n",
            "Epoch 197/300\n",
            "7/7 [==============================] - 0s 33ms/step - loss: 946.1605\n",
            "Epoch 198/300\n",
            "7/7 [==============================] - 0s 27ms/step - loss: 1427.1500\n",
            "Epoch 199/300\n",
            "7/7 [==============================] - 0s 27ms/step - loss: 1206.4662\n",
            "Epoch 200/300\n",
            "7/7 [==============================] - 0s 32ms/step - loss: 1034.4673\n",
            "Epoch 201/300\n",
            "7/7 [==============================] - 0s 29ms/step - loss: 1015.2349\n",
            "Epoch 202/300\n",
            "7/7 [==============================] - 0s 31ms/step - loss: 1048.0364\n",
            "Epoch 203/300\n",
            "7/7 [==============================] - 0s 30ms/step - loss: 1175.3204\n",
            "Epoch 204/300\n",
            "7/7 [==============================] - 0s 23ms/step - loss: 1079.4348\n",
            "Epoch 205/300\n",
            "7/7 [==============================] - 0s 16ms/step - loss: 894.4191\n",
            "Epoch 206/300\n",
            "7/7 [==============================] - 0s 20ms/step - loss: 919.7700\n",
            "Epoch 207/300\n",
            "7/7 [==============================] - 0s 17ms/step - loss: 1331.0588\n",
            "Epoch 208/300\n",
            "7/7 [==============================] - 0s 19ms/step - loss: 983.1888\n",
            "Epoch 209/300\n",
            "7/7 [==============================] - 0s 18ms/step - loss: 1216.6783\n",
            "Epoch 210/300\n",
            "7/7 [==============================] - 0s 17ms/step - loss: 1017.3741\n",
            "Epoch 211/300\n",
            "7/7 [==============================] - 0s 18ms/step - loss: 1014.4830\n",
            "Epoch 212/300\n",
            "7/7 [==============================] - 0s 17ms/step - loss: 1277.3711\n",
            "Epoch 213/300\n",
            "7/7 [==============================] - 0s 16ms/step - loss: 1102.7373\n",
            "Epoch 214/300\n",
            "7/7 [==============================] - 0s 19ms/step - loss: 1289.6851\n",
            "Epoch 215/300\n",
            "7/7 [==============================] - 0s 20ms/step - loss: 1053.5361\n",
            "Epoch 216/300\n",
            "7/7 [==============================] - 0s 23ms/step - loss: 1011.5614\n",
            "Epoch 217/300\n",
            "7/7 [==============================] - 0s 17ms/step - loss: 1494.5143\n",
            "Epoch 218/300\n",
            "7/7 [==============================] - 0s 18ms/step - loss: 1710.3772\n",
            "Epoch 219/300\n",
            "7/7 [==============================] - 0s 20ms/step - loss: 1315.6355\n",
            "Epoch 220/300\n",
            "7/7 [==============================] - 0s 18ms/step - loss: 1056.8053\n",
            "Epoch 221/300\n",
            "7/7 [==============================] - 0s 16ms/step - loss: 1562.2612\n",
            "Epoch 222/300\n",
            "7/7 [==============================] - 0s 16ms/step - loss: 1284.6185\n",
            "Epoch 223/300\n",
            "7/7 [==============================] - 0s 16ms/step - loss: 1173.5649\n",
            "Epoch 224/300\n",
            "7/7 [==============================] - 0s 19ms/step - loss: 1413.8464\n",
            "Epoch 225/300\n",
            "7/7 [==============================] - 0s 17ms/step - loss: 971.5248\n",
            "Epoch 226/300\n",
            "7/7 [==============================] - 0s 18ms/step - loss: 924.4413\n",
            "Epoch 227/300\n",
            "7/7 [==============================] - 0s 16ms/step - loss: 1276.9208\n",
            "Epoch 228/300\n",
            "7/7 [==============================] - 0s 16ms/step - loss: 1031.1597\n",
            "Epoch 229/300\n",
            "7/7 [==============================] - 0s 17ms/step - loss: 995.2074\n",
            "Epoch 230/300\n",
            "7/7 [==============================] - 0s 17ms/step - loss: 989.3508\n",
            "Epoch 231/300\n",
            "7/7 [==============================] - 0s 17ms/step - loss: 982.4636\n",
            "Epoch 232/300\n",
            "7/7 [==============================] - 0s 18ms/step - loss: 1044.0316\n",
            "Epoch 233/300\n",
            "7/7 [==============================] - 0s 17ms/step - loss: 1526.4684\n",
            "Epoch 234/300\n",
            "7/7 [==============================] - 0s 17ms/step - loss: 1142.0500\n",
            "Epoch 235/300\n",
            "7/7 [==============================] - 0s 16ms/step - loss: 1198.6584\n",
            "Epoch 236/300\n",
            "7/7 [==============================] - 0s 16ms/step - loss: 1456.0370\n",
            "Epoch 237/300\n",
            "7/7 [==============================] - 0s 18ms/step - loss: 1270.5880\n",
            "Epoch 238/300\n",
            "7/7 [==============================] - 0s 17ms/step - loss: 1029.9282\n",
            "Epoch 239/300\n",
            "7/7 [==============================] - 0s 16ms/step - loss: 1099.4866\n",
            "Epoch 240/300\n",
            "7/7 [==============================] - 0s 19ms/step - loss: 1391.3270\n",
            "Epoch 241/300\n",
            "7/7 [==============================] - 0s 16ms/step - loss: 1075.2585\n",
            "Epoch 242/300\n",
            "7/7 [==============================] - 0s 19ms/step - loss: 1307.7273\n",
            "Epoch 243/300\n",
            "7/7 [==============================] - 0s 19ms/step - loss: 1002.9984\n",
            "Epoch 244/300\n",
            "7/7 [==============================] - 0s 19ms/step - loss: 902.4443\n",
            "Epoch 245/300\n",
            "7/7 [==============================] - 0s 25ms/step - loss: 1236.6226\n",
            "Epoch 246/300\n",
            "7/7 [==============================] - 0s 20ms/step - loss: 1393.6166\n",
            "Epoch 247/300\n",
            "7/7 [==============================] - 0s 20ms/step - loss: 1143.7883\n",
            "Epoch 248/300\n",
            "7/7 [==============================] - 0s 20ms/step - loss: 892.7233\n",
            "Epoch 249/300\n",
            "7/7 [==============================] - 0s 20ms/step - loss: 1147.6605\n",
            "Epoch 250/300\n",
            "7/7 [==============================] - 0s 16ms/step - loss: 994.0990\n",
            "Epoch 251/300\n",
            "7/7 [==============================] - 0s 16ms/step - loss: 838.3018\n",
            "Epoch 252/300\n",
            "7/7 [==============================] - 0s 16ms/step - loss: 1167.2898\n",
            "Epoch 253/300\n",
            "7/7 [==============================] - 0s 18ms/step - loss: 880.9190\n",
            "Epoch 254/300\n",
            "7/7 [==============================] - 0s 16ms/step - loss: 980.9230\n",
            "Epoch 255/300\n",
            "7/7 [==============================] - 0s 19ms/step - loss: 1035.1365\n",
            "Epoch 256/300\n",
            "7/7 [==============================] - 0s 18ms/step - loss: 1029.6287\n",
            "Epoch 257/300\n",
            "7/7 [==============================] - 0s 16ms/step - loss: 1097.4016\n",
            "Epoch 258/300\n",
            "7/7 [==============================] - 0s 16ms/step - loss: 1025.3640\n",
            "Epoch 259/300\n",
            "7/7 [==============================] - 0s 16ms/step - loss: 909.8153\n",
            "Epoch 260/300\n",
            "7/7 [==============================] - 0s 16ms/step - loss: 1107.0583\n",
            "Epoch 261/300\n",
            "7/7 [==============================] - 0s 16ms/step - loss: 1601.7372\n",
            "Epoch 262/300\n",
            "7/7 [==============================] - 0s 16ms/step - loss: 1040.9275\n",
            "Epoch 263/300\n",
            "7/7 [==============================] - 0s 19ms/step - loss: 1168.4132\n",
            "Epoch 264/300\n",
            "7/7 [==============================] - 0s 17ms/step - loss: 1063.3304\n",
            "Epoch 265/300\n",
            "7/7 [==============================] - 0s 18ms/step - loss: 977.7187\n",
            "Epoch 266/300\n",
            "7/7 [==============================] - 0s 17ms/step - loss: 1112.6481\n",
            "Epoch 267/300\n",
            "7/7 [==============================] - 0s 17ms/step - loss: 959.5977\n",
            "Epoch 268/300\n",
            "7/7 [==============================] - 0s 16ms/step - loss: 1029.1973\n",
            "Epoch 269/300\n",
            "7/7 [==============================] - 0s 16ms/step - loss: 926.1752\n",
            "Epoch 270/300\n",
            "7/7 [==============================] - 0s 18ms/step - loss: 979.5343\n",
            "Epoch 271/300\n",
            "7/7 [==============================] - 0s 20ms/step - loss: 870.9386\n",
            "Epoch 272/300\n",
            "7/7 [==============================] - 0s 18ms/step - loss: 1064.7142\n",
            "Epoch 273/300\n",
            "7/7 [==============================] - 0s 19ms/step - loss: 790.5899\n",
            "Epoch 274/300\n",
            "7/7 [==============================] - 0s 17ms/step - loss: 1072.4586\n",
            "Epoch 275/300\n",
            "7/7 [==============================] - 0s 16ms/step - loss: 904.8135\n",
            "Epoch 276/300\n",
            "7/7 [==============================] - 0s 18ms/step - loss: 1210.7760\n",
            "Epoch 277/300\n",
            "7/7 [==============================] - 0s 18ms/step - loss: 787.7720\n",
            "Epoch 278/300\n",
            "7/7 [==============================] - 0s 17ms/step - loss: 1272.8353\n",
            "Epoch 279/300\n",
            "7/7 [==============================] - 0s 20ms/step - loss: 1107.6056\n",
            "Epoch 280/300\n",
            "7/7 [==============================] - 0s 28ms/step - loss: 949.2684\n",
            "Epoch 281/300\n",
            "7/7 [==============================] - 0s 31ms/step - loss: 1040.9071\n",
            "Epoch 282/300\n",
            "7/7 [==============================] - 0s 40ms/step - loss: 870.4520\n",
            "Epoch 283/300\n",
            "7/7 [==============================] - 0s 30ms/step - loss: 1224.3694\n",
            "Epoch 284/300\n",
            "7/7 [==============================] - 0s 32ms/step - loss: 924.3489\n",
            "Epoch 285/300\n",
            "7/7 [==============================] - 0s 41ms/step - loss: 1044.7147\n",
            "Epoch 286/300\n",
            "7/7 [==============================] - 0s 30ms/step - loss: 1046.5645\n",
            "Epoch 287/300\n",
            "7/7 [==============================] - 0s 29ms/step - loss: 991.4935\n",
            "Epoch 288/300\n",
            "7/7 [==============================] - 0s 29ms/step - loss: 943.3123\n",
            "Epoch 289/300\n",
            "7/7 [==============================] - 0s 27ms/step - loss: 1036.4564\n",
            "Epoch 290/300\n",
            "7/7 [==============================] - 0s 31ms/step - loss: 757.1314\n",
            "Epoch 291/300\n",
            "7/7 [==============================] - 0s 32ms/step - loss: 989.4510\n",
            "Epoch 292/300\n",
            "7/7 [==============================] - 0s 28ms/step - loss: 695.3786\n",
            "Epoch 293/300\n",
            "7/7 [==============================] - 0s 28ms/step - loss: 826.9953\n",
            "Epoch 294/300\n",
            "7/7 [==============================] - 0s 17ms/step - loss: 1138.9352\n",
            "Epoch 295/300\n",
            "7/7 [==============================] - 0s 17ms/step - loss: 920.1971\n",
            "Epoch 296/300\n",
            "7/7 [==============================] - 0s 16ms/step - loss: 818.4938\n",
            "Epoch 297/300\n",
            "7/7 [==============================] - 0s 16ms/step - loss: 1007.5140\n",
            "Epoch 298/300\n",
            "7/7 [==============================] - 0s 17ms/step - loss: 992.4131\n",
            "Epoch 299/300\n",
            "7/7 [==============================] - 0s 16ms/step - loss: 1046.7806\n",
            "Epoch 300/300\n",
            "7/7 [==============================] - 0s 17ms/step - loss: 996.2595\n"
          ]
        },
        {
          "output_type": "execute_result",
          "data": {
            "text/plain": [
              "<keras.callbacks.History at 0x7f22bacddfa0>"
            ]
          },
          "metadata": {},
          "execution_count": 26
        }
      ]
    },
    {
      "cell_type": "code",
      "source": [
        "ypred = model.predict(xtest)"
      ],
      "metadata": {
        "colab": {
          "base_uri": "https://localhost:8080/"
        },
        "id": "fv2EEnTragE0",
        "outputId": "d7c80550-33ef-46a5-8c83-06371308e210"
      },
      "execution_count": 27,
      "outputs": [
        {
          "output_type": "stream",
          "name": "stdout",
          "text": [
            "2/2 [==============================] - 0s 7ms/step\n"
          ]
        }
      ]
    },
    {
      "cell_type": "code",
      "source": [
        "plt.figure(figsize=(12,7))\n",
        "plt.plot(np.arange(0, len(xtrain)), ytrain, 'g', label=\"history\")\n",
        "plt.plot(np.arange(len(xtrain), len(xtrain) + len(xtest)), ypred, 'r', label=\"predictions\")\n",
        "plt.plot(np.arange(len(xtrain), len(xtrain) + len(xtest)), ytest, 'b', label=\"Actual\")\n",
        "plt.xlabel(\"Time ---------------->\")\n",
        "plt.ylabel(\"Price ---------------->\")\n",
        "plt.title(\"Plotting Predicted And Actual Values Together\")"
      ],
      "metadata": {
        "colab": {
          "base_uri": "https://localhost:8080/",
          "height": 475
        },
        "id": "BZylXUPjjW9Z",
        "outputId": "adf07c3e-40e2-49c6-e163-3ae75f4909f4"
      },
      "execution_count": 28,
      "outputs": [
        {
          "output_type": "execute_result",
          "data": {
            "text/plain": [
              "Text(0.5, 1.0, 'Plotting Predicted And Actual Values Together')"
            ]
          },
          "metadata": {},
          "execution_count": 28
        },
        {
          "output_type": "display_data",
          "data": {
            "text/plain": [
              "<Figure size 864x504 with 1 Axes>"
            ],
            "image/png": "[encoded data removed]"
          },
          "metadata": {
            "needs_background": "light"
          }
        }
      ]
    },
    {
      "cell_type": "code",
      "source": [
        "from sklearn.metrics import mean_squared_error\n",
        "mean_squared_error(ytest, ypred,squared=False)"
      ],
      "metadata": {
        "colab": {
          "base_uri": "https://localhost:8080/"
        },
        "id": "mNvXTAQcjZTd",
        "outputId": "28463be4-b210-429e-c995-fd12da4b2722"
      },
      "execution_count": 29,
      "outputs": [
        {
          "output_type": "execute_result",
          "data": {
            "text/plain": [
              "59.5465909563182"
            ]
          },
          "metadata": {},
          "execution_count": 29
        }
      ]
    },
    {
      "cell_type": "code",
      "source": [
        "test = new_df.iloc[train_size+10:].copy()\n",
        "\n",
        "test[\"Predictions\"] = ypred\n",
        "test[[\"High\", \"Predictions\"]].plot()\n",
        "plt.xlabel(\"Time ---------------->\")\n",
        "plt.ylabel(\"Price ---------------->\")\n",
        "plt.title(\"Plotting Predicted And Actual Values Together against the Testing Timeframe\")"
      ],
      "metadata": {
        "colab": {
          "base_uri": "https://localhost:8080/",
          "height": 318
        },
        "id": "dq8jpyMajbZP",
        "outputId": "0502b637-e6ec-4da2-fa38-ea9bb6f1da2e"
      },
      "execution_count": 30,
      "outputs": [
        {
          "output_type": "execute_result",
          "data": {
            "text/plain": [
              "Text(0.5, 1.0, 'Plotting Predicted And Actual Values Together against the Testing Timeframe')"
            ]
          },
          "metadata": {},
          "execution_count": 30
        },
        {
          "output_type": "display_data",
          "data": {
            "text/plain": [
              "<Figure size 432x288 with 1 Axes>"
            ],
            "image/png": "[encoded data removed]"
          },
          "metadata": {
            "needs_background": "light"
          }
        }
      ]
    }
  ]
}